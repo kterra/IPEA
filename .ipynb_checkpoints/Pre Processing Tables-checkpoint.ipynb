{
 "cells": [
  {
   "cell_type": "code",
   "execution_count": 1,
   "metadata": {
    "collapsed": true
   },
   "outputs": [],
   "source": [
    "import pandas as pd"
   ]
  },
  {
   "cell_type": "markdown",
   "metadata": {},
   "source": [
    "The tables will be pre processed and distributed in directories"
   ]
  },
  {
   "cell_type": "code",
   "execution_count": null,
   "metadata": {
    "collapsed": true
   },
   "outputs": [],
   "source": [
    "def preProcessngTable(table, column_pres, column_prod, column_lab, column_code):\n",
    "    \n",
    "    "
   ]
  },
  {
   "cell_type": "code",
   "execution_count": 2,
   "metadata": {
    "collapsed": true
   },
   "outputs": [],
   "source": [
    "df_pmb_ims = pd.read_excel('raw/FAT_QTD_PMB_PPP_0310_0215_999_FORMATADA.XLS')"
   ]
  },
  {
   "cell_type": "code",
   "execution_count": 3,
   "metadata": {
    "collapsed": false
   },
   "outputs": [
    {
     "data": {
      "text/html": [
       "<div>\n",
       "<table border=\"1\" class=\"dataframe\">\n",
       "  <thead>\n",
       "    <tr style=\"text-align: right;\">\n",
       "      <th></th>\n",
       "      <th>APRESENT.  SIMPLIFICADA</th>\n",
       "      <th>PRODUTO SIMPLIFICADO</th>\n",
       "      <th>CODIGO LAB</th>\n",
       "      <th>FCC - Codi go</th>\n",
       "    </tr>\n",
       "  </thead>\n",
       "  <tbody>\n",
       "    <tr>\n",
       "      <th>0</th>\n",
       "      <td>SUSP OFTAL 1 % 5 ML x 1</td>\n",
       "      <td>ACET.PREDNISOLO.MG</td>\n",
       "      <td>ALC</td>\n",
       "      <td>59541</td>\n",
       "    </tr>\n",
       "    <tr>\n",
       "      <th>1</th>\n",
       "      <td>SOLN OFTAL 0.50 % 5 ML x 1</td>\n",
       "      <td>ANESTALCON</td>\n",
       "      <td>ALC</td>\n",
       "      <td>717</td>\n",
       "    </tr>\n",
       "    <tr>\n",
       "      <th>2</th>\n",
       "      <td>SUSP OFTAL 1 % 5 ML x 1</td>\n",
       "      <td>AZOPT</td>\n",
       "      <td>ALC</td>\n",
       "      <td>54471</td>\n",
       "    </tr>\n",
       "    <tr>\n",
       "      <th>3</th>\n",
       "      <td>SUSP OFTAL 5 ML x 1</td>\n",
       "      <td>AZORGA</td>\n",
       "      <td>ALC</td>\n",
       "      <td>78110</td>\n",
       "    </tr>\n",
       "    <tr>\n",
       "      <th>4</th>\n",
       "      <td>SOLN OFTAL 0.50 % 5 ML x 1</td>\n",
       "      <td>BETOPTIC</td>\n",
       "      <td>ALC</td>\n",
       "      <td>46552</td>\n",
       "    </tr>\n",
       "    <tr>\n",
       "      <th>5</th>\n",
       "      <td>SUSP OFTAL 0.25 % 5 ML x 1</td>\n",
       "      <td>BETOPTIC S</td>\n",
       "      <td>ALC</td>\n",
       "      <td>49861</td>\n",
       "    </tr>\n",
       "    <tr>\n",
       "      <th>6</th>\n",
       "      <td>SOLN 500 ML x 1</td>\n",
       "      <td>BSS</td>\n",
       "      <td>ALC</td>\n",
       "      <td>54111</td>\n",
       "    </tr>\n",
       "    <tr>\n",
       "      <th>7</th>\n",
       "      <td>GOTAS OTO. 8 ML x 1</td>\n",
       "      <td>CERUMIN</td>\n",
       "      <td>ALC</td>\n",
       "      <td>2254</td>\n",
       "    </tr>\n",
       "    <tr>\n",
       "      <th>8</th>\n",
       "      <td>GOTAS OFTAL 5 ML x 1</td>\n",
       "      <td>CILODEX</td>\n",
       "      <td>ALC</td>\n",
       "      <td>57475</td>\n",
       "    </tr>\n",
       "    <tr>\n",
       "      <th>9</th>\n",
       "      <td>POM. OFTAL 3.50 G x 1</td>\n",
       "      <td>CILODEX</td>\n",
       "      <td>ALC</td>\n",
       "      <td>59560</td>\n",
       "    </tr>\n",
       "  </tbody>\n",
       "</table>\n",
       "</div>"
      ],
      "text/plain": [
       "      APRESENT.  SIMPLIFICADA PRODUTO SIMPLIFICADO CODIGO LAB  FCC - Codi go\n",
       "0     SUSP OFTAL 1 % 5 ML x 1  ACET.PREDNISOLO.MG         ALC          59541\n",
       "1  SOLN OFTAL 0.50 % 5 ML x 1          ANESTALCON         ALC            717\n",
       "2     SUSP OFTAL 1 % 5 ML x 1               AZOPT         ALC          54471\n",
       "3         SUSP OFTAL 5 ML x 1              AZORGA         ALC          78110\n",
       "4  SOLN OFTAL 0.50 % 5 ML x 1            BETOPTIC         ALC          46552\n",
       "5  SUSP OFTAL 0.25 % 5 ML x 1          BETOPTIC S         ALC          49861\n",
       "6             SOLN 500 ML x 1                 BSS         ALC          54111\n",
       "7         GOTAS OTO. 8 ML x 1             CERUMIN         ALC           2254\n",
       "8        GOTAS OFTAL 5 ML x 1             CILODEX         ALC          57475\n",
       "9       POM. OFTAL 3.50 G x 1             CILODEX         ALC          59560"
      ]
     },
     "execution_count": 3,
     "metadata": {},
     "output_type": "execute_result"
    }
   ],
   "source": [
    "df_pmb_ims[:10]"
   ]
  },
  {
   "cell_type": "code",
   "execution_count": 6,
   "metadata": {
    "collapsed": false
   },
   "outputs": [],
   "source": [
    "pmb_labs = set(df_pmb_ims['CODIGO LAB'])"
   ]
  },
  {
   "cell_type": "code",
   "execution_count": 7,
   "metadata": {
    "collapsed": false
   },
   "outputs": [
    {
     "data": {
      "text/plain": [
       "{'ALC',\n",
       " 'BF8',\n",
       " 'DNF',\n",
       " 'E3S',\n",
       " 'FAS',\n",
       " 'GEZ',\n",
       " 'GM2',\n",
       " 'HY_',\n",
       " 'LG6',\n",
       " 'LR3',\n",
       " 'MD7',\n",
       " 'MQF',\n",
       " 'N2E',\n",
       " 'N_Q',\n",
       " 'SDZ',\n",
       " 'S_A'}"
      ]
     },
     "execution_count": 7,
     "metadata": {},
     "output_type": "execute_result"
    }
   ],
   "source": []
  },
  {
   "cell_type": "code",
   "execution_count": null,
   "metadata": {
    "collapsed": true
   },
   "outputs": [],
   "source": []
  }
 ],
 "metadata": {
  "kernelspec": {
   "display_name": "Python 3",
   "language": "python",
   "name": "python3"
  },
  "language_info": {
   "codemirror_mode": {
    "name": "ipython",
    "version": 3
   },
   "file_extension": ".py",
   "mimetype": "text/x-python",
   "name": "python",
   "nbconvert_exporter": "python",
   "pygments_lexer": "ipython3",
   "version": "3.5.1"
  }
 },
 "nbformat": 4,
 "nbformat_minor": 0
}
